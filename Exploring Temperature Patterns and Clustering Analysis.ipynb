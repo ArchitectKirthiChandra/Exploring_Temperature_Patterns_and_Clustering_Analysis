{
 "cells": [
  {
   "cell_type": "markdown",
   "id": "1a9e52ce",
   "metadata": {},
   "source": [
    "# <center><font color='#000000'>Exploring Temperature Patterns and Clustering Analysis<font><a class='anchor' id='top'></a></center>"
   ]
  },
  {
   "cell_type": "markdown",
   "id": "0dbbfc96",
   "metadata": {},
   "source": [
    "### <center>--Kirthi Chandra--, --Rumi Tabassum--<center>"
   ]
  },
  {
   "cell_type": "markdown",
   "id": "d6d8456a",
   "metadata": {},
   "source": [
    "### Table of Contents\n",
    "    \n",
    "* [1. Introduction](#chapter1)\n",
    "\n",
    "* [2. Data Health Review](#chapter2)\n",
    "\t* [2.1 Importing Libraries](#chapter2.1)\n",
    "\t* [2.2 Importing the Data](#chapter2.2)\n",
    "\t* [2.3 Data Cleaning and Preprocessing](#chapter2.3)\n",
    "\t\n",
    "* [3. KMeans Clustering algorithm](#chapter3)\n",
    "\n",
    "* [4. Evaluating Clustering Performance Using Metrics](#chapter4)\n",
    "\n",
    "* [5. Conclusion](#chapter5)"
   ]
  },
  {
   "cell_type": "markdown",
   "id": "2394769c",
   "metadata": {},
   "source": [
    "## 1  Introduction  <a class=\"anchor\" id=\"chapter1\"></a>\n",
    "\n",
    "Temperature variations have a significant impact on our daily lives, both indoors and outdoors. Understanding the factors influencing temperature fluctuations is essential for creating comfortable living environments. In this study, we explore temperature patterns using real-world data and apply K-means clustering analysis to identify distinct temperature clusters. Our aim is to gain insights into the relationship between indoor and outdoor temperatures and uncover valuable information regarding temperature dynamics.\n",
    "\n",
    "**Data Preprocessing:**\n",
    "\n",
    "To begin, we import the necessary libraries and load the dataset. The data is then cleaned and preprocessed for further analysis. Columns are appropriately renamed, and a new column is added to represent the month name. Numerical columns are converted to the desired data type, ensuring accurate calculations and analysis.\n",
    "\n",
    "Exploring Relevance of the Day of the Week:\n",
    "Next, we focus on the relevance of the day of the week in relation to mean outside and inside temperatures. By analyzing this relationship, we gain insights into how temperature patterns vary across different days of the week. This analysis helps us understand the influence of factors such as weekdays, weekends, and seasonal variations on temperature fluctuations.\n",
    "\n",
    "Filtering and Focusing on a Specific Location:\n",
    "To streamline our analysis, we narrow down our dataset to a specific location. In this case, we focus on the Madhapur area. By isolating the data for this location, we remove redundancy and ensure that our analysis is specific to the given area of interest.\n",
    "\n",
    "**K-means Clustering:**\n",
    "\n",
    "To identify meaningful temperature clusters, we apply K-means clustering analysis to the dataset. Specifically, we focus on two numerical fields: outside temperature and inside temperature. Before clustering, we scale the data using the standard scaler to ensure fair and accurate comparison.\n",
    "\n",
    "Determining Optimal Number of Clusters:\n",
    "Using the elbow diagram, we visualize the within-cluster sum of squares (WCSS) for different numbers of clusters. The elbow diagram helps us identify the optimal number of clusters that strikes a balance between capturing meaningful structure and avoiding excessive complexity. We select the number of clusters based on the point on the elbow plot where the improvement in WCSS becomes marginal.\n",
    "\n",
    "Cluster Analysis and Centroid Visualization:\n",
    "After determining the optimal number of clusters, we apply K-means clustering to classify the centroids. We assess the scores and metrics to evaluate the quality of the clustering. In this analysis, we find that cluster 2 exhibits the best-suited score.\n",
    "\n",
    "**Interpreting Cluster Results:**\n",
    "\n",
    "Analyzing the findings, we observe that the most frequently observed outdoor temperature cluster has an average ranging from 29.45°C to 32.58°C. In comparison, the indoor temperature cluster averages between 29.09°C and 32.51°C. These insights provide valuable information regarding temperature ranges in Madhapur, highlighting the differences between indoor and outdoor environments.\n",
    "\n",
    "**Conclusion:**\n",
    "\n",
    "This study highlights the relevance of temperature patterns and the impact of factors such as location, day of the week, and seasonal variations. By applying K-means clustering analysis, we gain insights into distinct temperature clusters and uncover valuable information regarding temperature dynamics. The findings contribute to our understanding of temperature fluctuations and provide useful knowledge for creating comfortable living and working environments."
   ]
  },
  {
   "cell_type": "markdown",
   "id": "7bf32e2b",
   "metadata": {},
   "source": [
    "## 2. Data Health Review <a class = \"anchor\" id = \"chapter2\"> </a>"
   ]
  },
  {
   "cell_type": "markdown",
   "id": "c8939516",
   "metadata": {},
   "source": [
    "### 2.1 Importing Libraries <a class = \"anchor\" id = \"chapter2.1\"> </a>"
   ]
  },
  {
   "cell_type": "code",
   "execution_count": 1,
   "id": "00600708",
   "metadata": {},
   "outputs": [],
   "source": [
    "import pandas as pd\n",
    "import numpy as np\n",
    "\n",
    "import matplotlib.pyplot as plt\n",
    "import seaborn as sns"
   ]
  },
  {
   "cell_type": "markdown",
   "id": "e738b855",
   "metadata": {},
   "source": [
    "## 2.2 Importing the Data <a class = \"anchor\" id = \"chapter2.2\"></a>"
   ]
  },
  {
   "cell_type": "code",
   "execution_count": 2,
   "id": "e1bfd22c",
   "metadata": {},
   "outputs": [
    {
     "data": {
      "text/html": [
       "<div>\n",
       "<style scoped>\n",
       "    .dataframe tbody tr th:only-of-type {\n",
       "        vertical-align: middle;\n",
       "    }\n",
       "\n",
       "    .dataframe tbody tr th {\n",
       "        vertical-align: top;\n",
       "    }\n",
       "\n",
       "    .dataframe thead th {\n",
       "        text-align: right;\n",
       "    }\n",
       "</style>\n",
       "<table border=\"1\" class=\"dataframe\">\n",
       "  <thead>\n",
       "    <tr style=\"text-align: right;\">\n",
       "      <th></th>\n",
       "      <th>DATE</th>\n",
       "      <th>INSIDE TEMPERATURE</th>\n",
       "      <th>OUTSIDE TEMPERATURE</th>\n",
       "      <th>NIGHT TEMPERATURE</th>\n",
       "      <th>Unnamed: 4</th>\n",
       "      <th>LOCATION</th>\n",
       "    </tr>\n",
       "  </thead>\n",
       "  <tbody>\n",
       "    <tr>\n",
       "      <th>0</th>\n",
       "      <td>2023-03-13</td>\n",
       "      <td>31.6˚C</td>\n",
       "      <td>35.0˚C</td>\n",
       "      <td>NaN</td>\n",
       "      <td>NaN</td>\n",
       "      <td>MADHAPUR</td>\n",
       "    </tr>\n",
       "    <tr>\n",
       "      <th>1</th>\n",
       "      <td>2023-03-14</td>\n",
       "      <td>30.3˚C</td>\n",
       "      <td>30.2˚C</td>\n",
       "      <td>NaN</td>\n",
       "      <td>NaN</td>\n",
       "      <td>MADHAPUR</td>\n",
       "    </tr>\n",
       "    <tr>\n",
       "      <th>2</th>\n",
       "      <td>2023-03-15</td>\n",
       "      <td>31.1˚C</td>\n",
       "      <td>30.3˚C</td>\n",
       "      <td>NaN</td>\n",
       "      <td>NaN</td>\n",
       "      <td>MADHAPUR</td>\n",
       "    </tr>\n",
       "  </tbody>\n",
       "</table>\n",
       "</div>"
      ],
      "text/plain": [
       "        DATE INSIDE TEMPERATURE OUTSIDE TEMPERATURE NIGHT TEMPERATURE  \\\n",
       "0 2023-03-13            31.6˚C               35.0˚C               NaN   \n",
       "1 2023-03-14            30.3˚C               30.2˚C               NaN   \n",
       "2 2023-03-15            31.1˚C               30.3˚C               NaN   \n",
       "\n",
       "  Unnamed: 4    LOCATION  \n",
       "0        NaN    MADHAPUR  \n",
       "1        NaN    MADHAPUR  \n",
       "2        NaN    MADHAPUR  "
      ]
     },
     "execution_count": 2,
     "metadata": {},
     "output_type": "execute_result"
    }
   ],
   "source": [
    "df = pd.read_excel('Difference_In_Air_Temperature.xlsx')\n",
    "df.head(3)"
   ]
  },
  {
   "cell_type": "markdown",
   "id": "7455de5b",
   "metadata": {},
   "source": [
    "## 2.3 Data Cleaning and Preprocessing <a class= \"anchor\" id = \"chapter2.3\"></a>"
   ]
  },
  {
   "cell_type": "code",
   "execution_count": 3,
   "id": "44530858",
   "metadata": {},
   "outputs": [
    {
     "name": "stdout",
     "output_type": "stream",
     "text": [
      "<class 'pandas.core.frame.DataFrame'>\n",
      "RangeIndex: 53 entries, 0 to 52\n",
      "Data columns (total 6 columns):\n",
      " #   Column               Non-Null Count  Dtype         \n",
      "---  ------               --------------  -----         \n",
      " 0        DATE            53 non-null     datetime64[ns]\n",
      " 1   INSIDE TEMPERATURE   53 non-null     object        \n",
      " 2   OUTSIDE TEMPERATURE  53 non-null     object        \n",
      " 3   NIGHT TEMPERATURE    12 non-null     object        \n",
      " 4   Unnamed: 4           12 non-null     object        \n",
      " 5      LOCATION          53 non-null     object        \n",
      "dtypes: datetime64[ns](1), object(5)\n",
      "memory usage: 2.6+ KB\n"
     ]
    }
   ],
   "source": [
    "df.info()"
   ]
  },
  {
   "cell_type": "code",
   "execution_count": 4,
   "id": "9de555cc",
   "metadata": {},
   "outputs": [
    {
     "data": {
      "text/plain": [
       "Index(['     DATE', 'INSIDE TEMPERATURE', 'OUTSIDE TEMPERATURE',\n",
       "       'NIGHT TEMPERATURE', 'Unnamed: 4', '   LOCATION'],\n",
       "      dtype='object')"
      ]
     },
     "execution_count": 4,
     "metadata": {},
     "output_type": "execute_result"
    }
   ],
   "source": [
    "df.columns"
   ]
  },
  {
   "cell_type": "markdown",
   "id": "d99928a4",
   "metadata": {},
   "source": [
    "#### Renaming the Columns"
   ]
  },
  {
   "cell_type": "code",
   "execution_count": 5,
   "id": "052eb21a",
   "metadata": {},
   "outputs": [
    {
     "data": {
      "text/plain": [
       "Index(['Date', 'InsideAirTemp', 'OutsideAirTemp', 'NIGHT TEMPERATURE',\n",
       "       'Unnamed: 4', 'Location'],\n",
       "      dtype='object')"
      ]
     },
     "execution_count": 5,
     "metadata": {},
     "output_type": "execute_result"
    }
   ],
   "source": [
    "df.rename(columns = {'     DATE':'Date','INSIDE TEMPERATURE':'InsideAirTemp','OUTSIDE TEMPERATURE':'OutsideAirTemp', '   LOCATION':'Location'}, inplace = True)\n",
    "df.columns"
   ]
  },
  {
   "cell_type": "markdown",
   "id": "2bd21f46",
   "metadata": {},
   "source": [
    "#### Adding Month Name column"
   ]
  },
  {
   "cell_type": "code",
   "execution_count": 6,
   "id": "4ec2da65",
   "metadata": {},
   "outputs": [
    {
     "data": {
      "text/plain": [
       "0    March\n",
       "1    March\n",
       "2    March\n",
       "3    March\n",
       "Name: Month_name, dtype: object"
      ]
     },
     "execution_count": 6,
     "metadata": {},
     "output_type": "execute_result"
    }
   ],
   "source": [
    "# df['Date'] = pd.to_datetime(df['Date'])\n",
    "df['Month_name'] = df['Date'].dt.strftime(\"%B\")\n",
    "df['Month_name'].head(4)"
   ]
  },
  {
   "cell_type": "code",
   "execution_count": 7,
   "id": "5405d124",
   "metadata": {},
   "outputs": [
    {
     "data": {
      "text/plain": [
       "Index(['Date', 'InsideAirTemp', 'OutsideAirTemp', 'NIGHT TEMPERATURE',\n",
       "       'Unnamed: 4', 'Location', 'Month_name'],\n",
       "      dtype='object')"
      ]
     },
     "execution_count": 7,
     "metadata": {},
     "output_type": "execute_result"
    }
   ],
   "source": [
    "df.columns"
   ]
  },
  {
   "cell_type": "code",
   "execution_count": 8,
   "id": "ebbec707",
   "metadata": {},
   "outputs": [
    {
     "data": {
      "text/plain": [
       "MADHAPUR    41\n",
       "KHAMMAM     12\n",
       "Name: Location, dtype: int64"
      ]
     },
     "execution_count": 8,
     "metadata": {},
     "output_type": "execute_result"
    }
   ],
   "source": [
    "df['Location'].value_counts()"
   ]
  },
  {
   "cell_type": "markdown",
   "id": "6df2c56d",
   "metadata": {},
   "source": [
    "#### Changing the data type of numerical number"
   ]
  },
  {
   "cell_type": "code",
   "execution_count": 9,
   "id": "ddff5493",
   "metadata": {},
   "outputs": [],
   "source": [
    "df['InsideAirTemp'] = df['InsideAirTemp'].str.replace('˚C','').astype(float)\n",
    "df['OutsideAirTemp'] = df['OutsideAirTemp'].str.replace('˚C','').astype(float)"
   ]
  },
  {
   "cell_type": "markdown",
   "id": "b66c98ec",
   "metadata": {},
   "source": [
    "#### Taking the data of only one location feature "
   ]
  },
  {
   "cell_type": "code",
   "execution_count": 10,
   "id": "ca207e1c",
   "metadata": {},
   "outputs": [
    {
     "name": "stderr",
     "output_type": "stream",
     "text": [
      "C:\\Users\\kirthi chandra\\AppData\\Local\\Temp\\ipykernel_776\\3857991625.py:2: SettingWithCopyWarning: \n",
      "A value is trying to be set on a copy of a slice from a DataFrame.\n",
      "Try using .loc[row_indexer,col_indexer] = value instead\n",
      "\n",
      "See the caveats in the documentation: https://pandas.pydata.org/pandas-docs/stable/user_guide/indexing.html#returning-a-view-versus-a-copy\n",
      "  df_Madhapur['DayOfWeek'] = df_Madhapur['Date'].dt.day_name()\n"
     ]
    }
   ],
   "source": [
    "df_Madhapur = df[df['Location'] == 'MADHAPUR']\n",
    "df_Madhapur['DayOfWeek'] = df_Madhapur['Date'].dt.day_name()"
   ]
  },
  {
   "cell_type": "markdown",
   "id": "15e29e07",
   "metadata": {},
   "source": [
    "#### Find out the relevance of the day of the week in mean outside and inside temperature"
   ]
  },
  {
   "cell_type": "code",
   "execution_count": 11,
   "id": "1613f848",
   "metadata": {},
   "outputs": [
    {
     "data": {
      "text/html": [
       "<div>\n",
       "<style scoped>\n",
       "    .dataframe tbody tr th:only-of-type {\n",
       "        vertical-align: middle;\n",
       "    }\n",
       "\n",
       "    .dataframe tbody tr th {\n",
       "        vertical-align: top;\n",
       "    }\n",
       "\n",
       "    .dataframe thead th {\n",
       "        text-align: right;\n",
       "    }\n",
       "</style>\n",
       "<table border=\"1\" class=\"dataframe\">\n",
       "  <thead>\n",
       "    <tr style=\"text-align: right;\">\n",
       "      <th></th>\n",
       "      <th>InsideAirTemp</th>\n",
       "      <th>OutsideAirTemp</th>\n",
       "    </tr>\n",
       "    <tr>\n",
       "      <th>DayOfWeek</th>\n",
       "      <th></th>\n",
       "      <th></th>\n",
       "    </tr>\n",
       "  </thead>\n",
       "  <tbody>\n",
       "    <tr>\n",
       "      <th>Friday</th>\n",
       "      <td>31.250000</td>\n",
       "      <td>31.416667</td>\n",
       "    </tr>\n",
       "    <tr>\n",
       "      <th>Monday</th>\n",
       "      <td>31.757143</td>\n",
       "      <td>32.328571</td>\n",
       "    </tr>\n",
       "    <tr>\n",
       "      <th>Saturday</th>\n",
       "      <td>30.720000</td>\n",
       "      <td>30.760000</td>\n",
       "    </tr>\n",
       "    <tr>\n",
       "      <th>Sunday</th>\n",
       "      <td>30.720000</td>\n",
       "      <td>31.040000</td>\n",
       "    </tr>\n",
       "    <tr>\n",
       "      <th>Thursday</th>\n",
       "      <td>30.916667</td>\n",
       "      <td>31.516667</td>\n",
       "    </tr>\n",
       "    <tr>\n",
       "      <th>Tuesday</th>\n",
       "      <td>31.400000</td>\n",
       "      <td>31.416667</td>\n",
       "    </tr>\n",
       "    <tr>\n",
       "      <th>Wednesday</th>\n",
       "      <td>32.400000</td>\n",
       "      <td>31.800000</td>\n",
       "    </tr>\n",
       "  </tbody>\n",
       "</table>\n",
       "</div>"
      ],
      "text/plain": [
       "           InsideAirTemp  OutsideAirTemp\n",
       "DayOfWeek                               \n",
       "Friday         31.250000       31.416667\n",
       "Monday         31.757143       32.328571\n",
       "Saturday       30.720000       30.760000\n",
       "Sunday         30.720000       31.040000\n",
       "Thursday       30.916667       31.516667\n",
       "Tuesday        31.400000       31.416667\n",
       "Wednesday      32.400000       31.800000"
      ]
     },
     "execution_count": 11,
     "metadata": {},
     "output_type": "execute_result"
    }
   ],
   "source": [
    "df_Madhapur.groupby('DayOfWeek').mean()"
   ]
  },
  {
   "cell_type": "code",
   "execution_count": 12,
   "id": "2ef1d6bc",
   "metadata": {
    "scrolled": true
   },
   "outputs": [
    {
     "data": {
      "text/html": [
       "<div>\n",
       "<style scoped>\n",
       "    .dataframe tbody tr th:only-of-type {\n",
       "        vertical-align: middle;\n",
       "    }\n",
       "\n",
       "    .dataframe tbody tr th {\n",
       "        vertical-align: top;\n",
       "    }\n",
       "\n",
       "    .dataframe thead th {\n",
       "        text-align: right;\n",
       "    }\n",
       "</style>\n",
       "<table border=\"1\" class=\"dataframe\">\n",
       "  <thead>\n",
       "    <tr style=\"text-align: right;\">\n",
       "      <th></th>\n",
       "      <th>Date</th>\n",
       "      <th>InsideAirTemp</th>\n",
       "      <th>OutsideAirTemp</th>\n",
       "      <th>NIGHT TEMPERATURE</th>\n",
       "      <th>Unnamed: 4</th>\n",
       "      <th>Location</th>\n",
       "      <th>Month_name</th>\n",
       "      <th>DayOfWeek</th>\n",
       "    </tr>\n",
       "  </thead>\n",
       "  <tbody>\n",
       "    <tr>\n",
       "      <th>0</th>\n",
       "      <td>2023-03-13</td>\n",
       "      <td>31.6</td>\n",
       "      <td>35.0</td>\n",
       "      <td>NaN</td>\n",
       "      <td>NaN</td>\n",
       "      <td>MADHAPUR</td>\n",
       "      <td>March</td>\n",
       "      <td>Monday</td>\n",
       "    </tr>\n",
       "    <tr>\n",
       "      <th>1</th>\n",
       "      <td>2023-03-14</td>\n",
       "      <td>30.3</td>\n",
       "      <td>30.2</td>\n",
       "      <td>NaN</td>\n",
       "      <td>NaN</td>\n",
       "      <td>MADHAPUR</td>\n",
       "      <td>March</td>\n",
       "      <td>Tuesday</td>\n",
       "    </tr>\n",
       "    <tr>\n",
       "      <th>2</th>\n",
       "      <td>2023-03-15</td>\n",
       "      <td>31.1</td>\n",
       "      <td>30.3</td>\n",
       "      <td>NaN</td>\n",
       "      <td>NaN</td>\n",
       "      <td>MADHAPUR</td>\n",
       "      <td>March</td>\n",
       "      <td>Wednesday</td>\n",
       "    </tr>\n",
       "    <tr>\n",
       "      <th>3</th>\n",
       "      <td>2023-03-16</td>\n",
       "      <td>26.1</td>\n",
       "      <td>28.8</td>\n",
       "      <td>NaN</td>\n",
       "      <td>NaN</td>\n",
       "      <td>MADHAPUR</td>\n",
       "      <td>March</td>\n",
       "      <td>Thursday</td>\n",
       "    </tr>\n",
       "    <tr>\n",
       "      <th>4</th>\n",
       "      <td>2023-03-17</td>\n",
       "      <td>28.0</td>\n",
       "      <td>28.2</td>\n",
       "      <td>NaN</td>\n",
       "      <td>NaN</td>\n",
       "      <td>MADHAPUR</td>\n",
       "      <td>March</td>\n",
       "      <td>Friday</td>\n",
       "    </tr>\n",
       "  </tbody>\n",
       "</table>\n",
       "</div>"
      ],
      "text/plain": [
       "        Date  InsideAirTemp  OutsideAirTemp NIGHT TEMPERATURE Unnamed: 4  \\\n",
       "0 2023-03-13           31.6            35.0               NaN        NaN   \n",
       "1 2023-03-14           30.3            30.2               NaN        NaN   \n",
       "2 2023-03-15           31.1            30.3               NaN        NaN   \n",
       "3 2023-03-16           26.1            28.8               NaN        NaN   \n",
       "4 2023-03-17           28.0            28.2               NaN        NaN   \n",
       "\n",
       "   Location Month_name  DayOfWeek  \n",
       "0  MADHAPUR      March     Monday  \n",
       "1  MADHAPUR      March    Tuesday  \n",
       "2  MADHAPUR      March  Wednesday  \n",
       "3  MADHAPUR      March   Thursday  \n",
       "4  MADHAPUR      March     Friday  "
      ]
     },
     "execution_count": 12,
     "metadata": {},
     "output_type": "execute_result"
    }
   ],
   "source": [
    "df_Madhapur.head(5)"
   ]
  },
  {
   "cell_type": "markdown",
   "id": "ecbbd485",
   "metadata": {},
   "source": [
    "#### taking the data of only madhapur and removing redundent data"
   ]
  },
  {
   "cell_type": "code",
   "execution_count": 13,
   "id": "a67dd969",
   "metadata": {},
   "outputs": [
    {
     "data": {
      "text/html": [
       "<div>\n",
       "<style scoped>\n",
       "    .dataframe tbody tr th:only-of-type {\n",
       "        vertical-align: middle;\n",
       "    }\n",
       "\n",
       "    .dataframe tbody tr th {\n",
       "        vertical-align: top;\n",
       "    }\n",
       "\n",
       "    .dataframe thead th {\n",
       "        text-align: right;\n",
       "    }\n",
       "</style>\n",
       "<table border=\"1\" class=\"dataframe\">\n",
       "  <thead>\n",
       "    <tr style=\"text-align: right;\">\n",
       "      <th></th>\n",
       "      <th>Date</th>\n",
       "      <th>InsideAirTemp</th>\n",
       "      <th>OutsideAirTemp</th>\n",
       "      <th>Location</th>\n",
       "      <th>Month_name</th>\n",
       "      <th>DayOfWeek</th>\n",
       "    </tr>\n",
       "  </thead>\n",
       "  <tbody>\n",
       "    <tr>\n",
       "      <th>0</th>\n",
       "      <td>2023-03-13</td>\n",
       "      <td>31.6</td>\n",
       "      <td>35.0</td>\n",
       "      <td>MADHAPUR</td>\n",
       "      <td>March</td>\n",
       "      <td>Monday</td>\n",
       "    </tr>\n",
       "    <tr>\n",
       "      <th>1</th>\n",
       "      <td>2023-03-14</td>\n",
       "      <td>30.3</td>\n",
       "      <td>30.2</td>\n",
       "      <td>MADHAPUR</td>\n",
       "      <td>March</td>\n",
       "      <td>Tuesday</td>\n",
       "    </tr>\n",
       "    <tr>\n",
       "      <th>2</th>\n",
       "      <td>2023-03-15</td>\n",
       "      <td>31.1</td>\n",
       "      <td>30.3</td>\n",
       "      <td>MADHAPUR</td>\n",
       "      <td>March</td>\n",
       "      <td>Wednesday</td>\n",
       "    </tr>\n",
       "    <tr>\n",
       "      <th>3</th>\n",
       "      <td>2023-03-16</td>\n",
       "      <td>26.1</td>\n",
       "      <td>28.8</td>\n",
       "      <td>MADHAPUR</td>\n",
       "      <td>March</td>\n",
       "      <td>Thursday</td>\n",
       "    </tr>\n",
       "  </tbody>\n",
       "</table>\n",
       "</div>"
      ],
      "text/plain": [
       "        Date  InsideAirTemp  OutsideAirTemp  Location Month_name  DayOfWeek\n",
       "0 2023-03-13           31.6            35.0  MADHAPUR      March     Monday\n",
       "1 2023-03-14           30.3            30.2  MADHAPUR      March    Tuesday\n",
       "2 2023-03-15           31.1            30.3  MADHAPUR      March  Wednesday\n",
       "3 2023-03-16           26.1            28.8  MADHAPUR      March   Thursday"
      ]
     },
     "execution_count": 13,
     "metadata": {},
     "output_type": "execute_result"
    }
   ],
   "source": [
    "df_Madhapur = df_Madhapur.iloc[:, [0,1,2,5,6,7]]\n",
    "df_Madhapur.head(4)"
   ]
  },
  {
   "cell_type": "code",
   "execution_count": 14,
   "id": "4781992f",
   "metadata": {},
   "outputs": [
    {
     "name": "stdout",
     "output_type": "stream",
     "text": [
      "<class 'pandas.core.frame.DataFrame'>\n",
      "Int64Index: 41 entries, 0 to 40\n",
      "Data columns (total 6 columns):\n",
      " #   Column          Non-Null Count  Dtype         \n",
      "---  ------          --------------  -----         \n",
      " 0   Date            41 non-null     datetime64[ns]\n",
      " 1   InsideAirTemp   41 non-null     float64       \n",
      " 2   OutsideAirTemp  41 non-null     float64       \n",
      " 3   Location        41 non-null     object        \n",
      " 4   Month_name      41 non-null     object        \n",
      " 5   DayOfWeek       41 non-null     object        \n",
      "dtypes: datetime64[ns](1), float64(2), object(3)\n",
      "memory usage: 2.2+ KB\n"
     ]
    }
   ],
   "source": [
    "df_Madhapur.info()"
   ]
  },
  {
   "cell_type": "code",
   "execution_count": 15,
   "id": "43eb7d3c",
   "metadata": {},
   "outputs": [
    {
     "data": {
      "text/plain": [
       "(41, 6)"
      ]
     },
     "execution_count": 15,
     "metadata": {},
     "output_type": "execute_result"
    }
   ],
   "source": [
    "df_Madhapur.shape"
   ]
  },
  {
   "cell_type": "markdown",
   "id": "4d1dc811",
   "metadata": {},
   "source": [
    "## 3. KMeans Clustering algorithm <a class = \"anchor\" id = \"chapter3\"> </a>"
   ]
  },
  {
   "cell_type": "markdown",
   "id": "1d6de3ee",
   "metadata": {},
   "source": [
    "#### Applying KMeans for only two numerical fields which is outside temperature and Inside temperature"
   ]
  },
  {
   "cell_type": "code",
   "execution_count": 16,
   "id": "9a3a5b3a",
   "metadata": {},
   "outputs": [
    {
     "data": {
      "text/html": [
       "<div>\n",
       "<style scoped>\n",
       "    .dataframe tbody tr th:only-of-type {\n",
       "        vertical-align: middle;\n",
       "    }\n",
       "\n",
       "    .dataframe tbody tr th {\n",
       "        vertical-align: top;\n",
       "    }\n",
       "\n",
       "    .dataframe thead th {\n",
       "        text-align: right;\n",
       "    }\n",
       "</style>\n",
       "<table border=\"1\" class=\"dataframe\">\n",
       "  <thead>\n",
       "    <tr style=\"text-align: right;\">\n",
       "      <th></th>\n",
       "      <th>InsideAirTemp</th>\n",
       "      <th>OutsideAirTemp</th>\n",
       "    </tr>\n",
       "  </thead>\n",
       "  <tbody>\n",
       "    <tr>\n",
       "      <th>0</th>\n",
       "      <td>31.6</td>\n",
       "      <td>35.0</td>\n",
       "    </tr>\n",
       "    <tr>\n",
       "      <th>1</th>\n",
       "      <td>30.3</td>\n",
       "      <td>30.2</td>\n",
       "    </tr>\n",
       "    <tr>\n",
       "      <th>2</th>\n",
       "      <td>31.1</td>\n",
       "      <td>30.3</td>\n",
       "    </tr>\n",
       "  </tbody>\n",
       "</table>\n",
       "</div>"
      ],
      "text/plain": [
       "   InsideAirTemp  OutsideAirTemp\n",
       "0           31.6            35.0\n",
       "1           30.3            30.2\n",
       "2           31.1            30.3"
      ]
     },
     "execution_count": 16,
     "metadata": {},
     "output_type": "execute_result"
    }
   ],
   "source": [
    "df_Madhapur_Cont = df_Madhapur[['InsideAirTemp', 'OutsideAirTemp']]\n",
    "df_Madhapur_Cont.head(3)"
   ]
  },
  {
   "cell_type": "markdown",
   "id": "55cb976e",
   "metadata": {},
   "source": [
    "#### Scaling the data through standard scaler "
   ]
  },
  {
   "cell_type": "code",
   "execution_count": 17,
   "id": "52bf87e6",
   "metadata": {},
   "outputs": [],
   "source": [
    "# Scaling the Data Frame\n",
    "\n",
    "from sklearn.preprocessing import StandardScaler\n",
    "\n",
    "ss = StandardScaler()\n",
    "ss = ss.fit_transform(df_Madhapur_Cont)\n"
   ]
  },
  {
   "cell_type": "markdown",
   "id": "ecd9d770",
   "metadata": {},
   "source": [
    "#### Applying KMeans Clustering to find the best suited classification of centroids"
   ]
  },
  {
   "cell_type": "code",
   "execution_count": 18,
   "id": "3b5c6a48",
   "metadata": {},
   "outputs": [
    {
     "name": "stderr",
     "output_type": "stream",
     "text": [
      "C:\\Users\\kirthi_chandra_anaconda\\lib\\site-packages\\sklearn\\cluster\\_kmeans.py:1036: UserWarning: KMeans is known to have a memory leak on Windows with MKL, when there are less chunks than available threads. You can avoid it by setting the environment variable OMP_NUM_THREADS=1.\n",
      "  warnings.warn(\n"
     ]
    },
    {
     "data": {
      "text/plain": [
       "[82.00000000000003,\n",
       " 29.514163428865416,\n",
       " 13.818237484692261,\n",
       " 9.601681872948479,\n",
       " 7.646615197103176,\n",
       " 5.612812043691299,\n",
       " 4.605181047023748,\n",
       " 3.4171926597955693,\n",
       " 2.8352967511288822,\n",
       " 2.028539819243065,\n",
       " 1.5929155237918993,\n",
       " 1.3124919116160507,\n",
       " 1.1433635576768442,\n",
       " 0.9709591556712674]"
      ]
     },
     "execution_count": 18,
     "metadata": {},
     "output_type": "execute_result"
    }
   ],
   "source": [
    "# using Clustering\n",
    "\n",
    "from sklearn.cluster import KMeans\n",
    "\n",
    "WSS = [] # inter cluster distance\n",
    "\n",
    "for i in range(1,15):\n",
    "    m = KMeans(n_clusters = i)\n",
    "    m = m.fit(ss)\n",
    "    WSS.append(m.inertia_)\n",
    "    \n",
    "WSS"
   ]
  },
  {
   "cell_type": "markdown",
   "id": "7570a41b",
   "metadata": {},
   "source": [
    "#### Using Elbow Diagram to visualise the Within Sum of Squares"
   ]
  },
  {
   "cell_type": "code",
   "execution_count": 19,
   "id": "c5392526",
   "metadata": {},
   "outputs": [
    {
     "data": {
      "text/plain": [
       "[<matplotlib.lines.Line2D at 0x1faa4bf45e0>]"
      ]
     },
     "execution_count": 19,
     "metadata": {},
     "output_type": "execute_result"
    },
    {
     "data": {
      "image/png": "[encoded data removed]",
      "text/plain": [
       "<Figure size 432x288 with 1 Axes>"
      ]
     },
     "metadata": {
      "needs_background": "light"
     },
     "output_type": "display_data"
    }
   ],
   "source": [
    "plt.plot(range(1,15),WSS)"
   ]
  },
  {
   "cell_type": "markdown",
   "id": "0ce73160",
   "metadata": {},
   "source": [
    "#### Finding the least suitable number of centroids"
   ]
  },
  {
   "cell_type": "code",
   "execution_count": 20,
   "id": "a733abe4",
   "metadata": {},
   "outputs": [
    {
     "data": {
      "text/plain": [
       "[52.48583657113461,\n",
       " 15.695925944173155,\n",
       " 4.216555611743782,\n",
       " 1.9550666758453028,\n",
       " 2.033803153411877,\n",
       " 1.007630996667551,\n",
       " 1.1879883872281791,\n",
       " 0.5818959086666871,\n",
       " 0.8067569318858174,\n",
       " 0.43562429545116554]"
      ]
     },
     "execution_count": 20,
     "metadata": {},
     "output_type": "execute_result"
    }
   ],
   "source": [
    "diff_WSS = []\n",
    "\n",
    "for i in range(0,10):\n",
    "    diff_WSS.append(WSS[i]-WSS[i+1])\n",
    "    \n",
    "diff_WSS"
   ]
  },
  {
   "cell_type": "markdown",
   "id": "5e1f6ba3",
   "metadata": {},
   "source": [
    "## 4. Evaluating Clustering Performance Using Metrics <a class = \"anchor\" id = \"chapter4\"></a>"
   ]
  },
  {
   "cell_type": "code",
   "execution_count": 21,
   "id": "b5c1ff3b",
   "metadata": {},
   "outputs": [
    {
     "name": "stdout",
     "output_type": "stream",
     "text": [
      "0.5373798887841813\n",
      "0.5232671055784321\n",
      "0.4907736853575555\n",
      "0.48786073721789336\n",
      "0.4956853109083093\n",
      "0.5035410831331091\n",
      "0.48534067912802553\n"
     ]
    }
   ],
   "source": [
    "from sklearn.metrics import silhouette_samples, silhouette_score\n",
    "\n",
    "for i in range(2,9):\n",
    "    KM = KMeans(n_clusters = i,random_state = 1)\n",
    "    KM.fit(ss)\n",
    "    labels = KM.labels_\n",
    "    print(silhouette_score(ss,labels, random_state = 1))"
   ]
  },
  {
   "cell_type": "markdown",
   "id": "cab3f0ae",
   "metadata": {},
   "source": [
    "#### Best suited score is cluster 2"
   ]
  },
  {
   "cell_type": "code",
   "execution_count": 22,
   "id": "fd199fd3",
   "metadata": {},
   "outputs": [
    {
     "data": {
      "text/html": [
       "<div>\n",
       "<style scoped>\n",
       "    .dataframe tbody tr th:only-of-type {\n",
       "        vertical-align: middle;\n",
       "    }\n",
       "\n",
       "    .dataframe tbody tr th {\n",
       "        vertical-align: top;\n",
       "    }\n",
       "\n",
       "    .dataframe thead th {\n",
       "        text-align: right;\n",
       "    }\n",
       "</style>\n",
       "<table border=\"1\" class=\"dataframe\">\n",
       "  <thead>\n",
       "    <tr style=\"text-align: right;\">\n",
       "      <th></th>\n",
       "      <th>Date</th>\n",
       "      <th>InsideAirTemp</th>\n",
       "      <th>OutsideAirTemp</th>\n",
       "      <th>Location</th>\n",
       "      <th>Month_name</th>\n",
       "      <th>DayOfWeek</th>\n",
       "      <th>Clusters</th>\n",
       "    </tr>\n",
       "  </thead>\n",
       "  <tbody>\n",
       "    <tr>\n",
       "      <th>0</th>\n",
       "      <td>2023-03-13</td>\n",
       "      <td>31.6</td>\n",
       "      <td>35.0</td>\n",
       "      <td>MADHAPUR</td>\n",
       "      <td>March</td>\n",
       "      <td>Monday</td>\n",
       "      <td>1</td>\n",
       "    </tr>\n",
       "    <tr>\n",
       "      <th>1</th>\n",
       "      <td>2023-03-14</td>\n",
       "      <td>30.3</td>\n",
       "      <td>30.2</td>\n",
       "      <td>MADHAPUR</td>\n",
       "      <td>March</td>\n",
       "      <td>Tuesday</td>\n",
       "      <td>0</td>\n",
       "    </tr>\n",
       "    <tr>\n",
       "      <th>2</th>\n",
       "      <td>2023-03-15</td>\n",
       "      <td>31.1</td>\n",
       "      <td>30.3</td>\n",
       "      <td>MADHAPUR</td>\n",
       "      <td>March</td>\n",
       "      <td>Wednesday</td>\n",
       "      <td>0</td>\n",
       "    </tr>\n",
       "    <tr>\n",
       "      <th>3</th>\n",
       "      <td>2023-03-16</td>\n",
       "      <td>26.1</td>\n",
       "      <td>28.8</td>\n",
       "      <td>MADHAPUR</td>\n",
       "      <td>March</td>\n",
       "      <td>Thursday</td>\n",
       "      <td>0</td>\n",
       "    </tr>\n",
       "    <tr>\n",
       "      <th>4</th>\n",
       "      <td>2023-03-17</td>\n",
       "      <td>28.0</td>\n",
       "      <td>28.2</td>\n",
       "      <td>MADHAPUR</td>\n",
       "      <td>March</td>\n",
       "      <td>Friday</td>\n",
       "      <td>0</td>\n",
       "    </tr>\n",
       "  </tbody>\n",
       "</table>\n",
       "</div>"
      ],
      "text/plain": [
       "        Date  InsideAirTemp  OutsideAirTemp  Location Month_name  DayOfWeek  \\\n",
       "0 2023-03-13           31.6            35.0  MADHAPUR      March     Monday   \n",
       "1 2023-03-14           30.3            30.2  MADHAPUR      March    Tuesday   \n",
       "2 2023-03-15           31.1            30.3  MADHAPUR      March  Wednesday   \n",
       "3 2023-03-16           26.1            28.8  MADHAPUR      March   Thursday   \n",
       "4 2023-03-17           28.0            28.2  MADHAPUR      March     Friday   \n",
       "\n",
       "   Clusters  \n",
       "0         1  \n",
       "1         0  \n",
       "2         0  \n",
       "3         0  \n",
       "4         0  "
      ]
     },
     "execution_count": 22,
     "metadata": {},
     "output_type": "execute_result"
    }
   ],
   "source": [
    "mod2 = KMeans(n_clusters = 2)\n",
    "mod2 = mod2.fit(ss)\n",
    "\n",
    "df_Madhapur['Clusters'] = mod2.labels_\n",
    "\n",
    "df_Madhapur.head()"
   ]
  },
  {
   "cell_type": "markdown",
   "id": "7422e912",
   "metadata": {},
   "source": [
    "#### Finding the location of Centroids and visualising it"
   ]
  },
  {
   "cell_type": "code",
   "execution_count": 23,
   "id": "90769255",
   "metadata": {},
   "outputs": [
    {
     "data": {
      "text/plain": [
       "array([[-1.10153796, -1.12047315],\n",
       "       [ 0.57116783,  0.58098608]])"
      ]
     },
     "execution_count": 23,
     "metadata": {},
     "output_type": "execute_result"
    }
   ],
   "source": [
    "# Coordinates of Centroids\n",
    "\n",
    "centroids = mod2.cluster_centers_\n",
    "centroids"
   ]
  },
  {
   "cell_type": "code",
   "execution_count": 24,
   "id": "79342325",
   "metadata": {},
   "outputs": [
    {
     "data": {
      "image/png": "[encoded data removed]",
      "text/plain": [
       "<Figure size 720x720 with 1 Axes>"
      ]
     },
     "metadata": {
      "needs_background": "light"
     },
     "output_type": "display_data"
    }
   ],
   "source": [
    "plt.figure(figsize = (10,10))\n",
    "\n",
    "plt.scatter (ss[:, 0], ss[:, 1], c =  df_Madhapur['Clusters'], cmap = 'viridis')\n",
    "\n",
    "plt.scatter(centroids[:,0], centroids [:,1], marker = 'X', s = 100, c = 'red', label = 'Centroids')\n",
    "\n",
    "plt.legend(['Data', 'Centroid'])\n",
    "plt.title('Graph representing the Centroid and Scaled Data Points for InsideAirTemp and OutsideAirTemp')\n",
    "plt.show()"
   ]
  },
  {
   "cell_type": "markdown",
   "id": "dd906ae8",
   "metadata": {},
   "source": [
    "#### Finding the values of Centroids of clusters in real Data"
   ]
  },
  {
   "cell_type": "code",
   "execution_count": 25,
   "id": "3a09c6ed",
   "metadata": {},
   "outputs": [
    {
     "data": {
      "text/plain": [
       "KMeans(n_clusters=2)"
      ]
     },
     "execution_count": 25,
     "metadata": {},
     "output_type": "execute_result"
    }
   ],
   "source": [
    "mod2 = KMeans(n_clusters = 2)\n",
    "mod2 = mod2.fit(df_Madhapur_Cont)\n",
    "mod2"
   ]
  },
  {
   "cell_type": "code",
   "execution_count": 26,
   "id": "02d9925f",
   "metadata": {},
   "outputs": [
    {
     "data": {
      "text/plain": [
       "array([[29.09285714, 29.45      ],\n",
       "       [32.51851852, 32.58888889]])"
      ]
     },
     "execution_count": 26,
     "metadata": {},
     "output_type": "execute_result"
    }
   ],
   "source": [
    "mod2.cluster_centers_"
   ]
  },
  {
   "cell_type": "markdown",
   "id": "df61edbc",
   "metadata": {},
   "source": [
    "## 5. Conclusion <a class = \"anchor\" id = \"chapter5\"></a>"
   ]
  },
  {
   "cell_type": "markdown",
   "id": "4cd0e864",
   "metadata": {},
   "source": [
    "#### The findings revealed that the most frequently observed outdoor temperature cluster exhibited an average of 32.58°C on the higher end and 29.45°C on the lower end. In comparison, the indoor temperature cluster had an average of 32.51°C on the higher end and 29.09°C on the lower end."
   ]
  },
  {
   "cell_type": "markdown",
   "id": "e3261dd8",
   "metadata": {},
   "source": [
    "## <center>Thank YOu<center>"
   ]
  },
  {
   "cell_type": "code",
   "execution_count": null,
   "id": "891367a0",
   "metadata": {},
   "outputs": [],
   "source": []
  }
 ],
 "metadata": {
  "kernelspec": {
   "display_name": "Python 3 (ipykernel)",
   "language": "python",
   "name": "python3"
  },
  "language_info": {
   "codemirror_mode": {
    "name": "ipython",
    "version": 3
   },
   "file_extension": ".py",
   "mimetype": "text/x-python",
   "name": "python",
   "nbconvert_exporter": "python",
   "pygments_lexer": "ipython3",
   "version": "3.9.12"
  }
 },
 "nbformat": 4,
 "nbformat_minor": 5
}
